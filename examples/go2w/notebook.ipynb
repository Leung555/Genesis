{
 "cells": [
  {
   "cell_type": "code",
   "execution_count": 1,
   "metadata": {},
   "outputs": [
    {
     "name": "stderr",
     "output_type": "stream",
     "text": [
      "[I 01/22/25 22:52:59.320 68277] [shell.py:_shell_pop_print@23] Graphical python shell detected, using wrapped sys.stdout\n"
     ]
    }
   ],
   "source": [
    "import genesis as gs"
   ]
  },
  {
   "cell_type": "code",
   "execution_count": 2,
   "metadata": {},
   "outputs": [
    {
     "name": "stderr",
     "output_type": "stream",
     "text": [
      "\u001b[38;5;159m[Genesis] [22:53:02] [INFO] \u001b[38;5;121m╭───────────────────────────────────────────────╮\u001b[0m\u001b[38;5;159m\u001b[0m\n",
      "\u001b[38;5;159m[Genesis] [22:53:02] [INFO] \u001b[38;5;121m│┈┉┈┉┈┉┈┉┈┉┈┉┈┉┈┉┈┉┈\u001b[0m\u001b[38;5;159m \u001b[38;5;121m\u001b[1m\u001b[3mGenesis\u001b[0m\u001b[38;5;159m \u001b[38;5;121m┈┉┈┉┈┉┈┉┈┉┈┉┈┉┈┉┈┉┈│\u001b[0m\u001b[38;5;159m\u001b[0m\n",
      "\u001b[38;5;159m[Genesis] [22:53:02] [INFO] \u001b[38;5;121m╰───────────────────────────────────────────────╯\u001b[0m\u001b[38;5;159m\u001b[0m\n",
      "\u001b[38;5;159m[Genesis] [22:53:02] [INFO] Running on \u001b[38;5;121m\u001b[4m[NVIDIA GeForce RTX 4060 Laptop GPU]\u001b[0m\u001b[38;5;159m with backend \u001b[38;5;121m\u001b[4mgs.cuda\u001b[0m\u001b[38;5;159m. Device memory: \u001b[38;5;121m\u001b[4m7.75\u001b[0m\u001b[38;5;159m GB.\u001b[0m\n",
      "\u001b[38;5;159m[Genesis] [22:53:02] [INFO] 🚀 Genesis initialized. 🔖 version: \u001b[38;5;121m\u001b[4m0.2.0\u001b[0m\u001b[38;5;159m, 🌱 seed: \u001b[38;5;121m\u001b[4mNone\u001b[0m\u001b[38;5;159m, 📏 precision: '\u001b[38;5;121m\u001b[4m32\u001b[0m\u001b[38;5;159m', 🐛 debug: \u001b[38;5;121m\u001b[4mFalse\u001b[0m\u001b[38;5;159m, 🎨 theme: '\u001b[38;5;121m\u001b[4mdark\u001b[0m\u001b[38;5;159m'.\u001b[0m\n"
     ]
    }
   ],
   "source": [
    "gs.init(backend=gs.cuda)"
   ]
  },
  {
   "cell_type": "code",
   "execution_count": 3,
   "metadata": {},
   "outputs": [
    {
     "name": "stderr",
     "output_type": "stream",
     "text": [
      "\u001b[38;5;159m[Genesis] [22:53:09] [INFO] Scene \u001b[38;5;121m\u001b[3m<3ece694>\u001b[0m\u001b[38;5;159m created.\u001b[0m\n",
      "\u001b[38;5;159m[Genesis] [22:53:09] [INFO] Adding \u001b[38;5;121m<gs.RigidEntity>\u001b[0m\u001b[38;5;159m. idx: \u001b[38;5;121m0\u001b[0m\u001b[38;5;159m, uid: \u001b[38;5;121m\u001b[3m<2a81be6>\u001b[0m\u001b[38;5;159m, morph: \u001b[38;5;121m<gs.morphs.Plane>\u001b[0m\u001b[38;5;159m, material: \u001b[38;5;121m<gs.materials.Rigid>\u001b[0m\u001b[38;5;159m.\u001b[0m\n"
     ]
    }
   ],
   "source": [
    "scene = gs.Scene(show_viewer=True)\n",
    "plane = scene.add_entity(gs.morphs.Plane())"
   ]
  },
  {
   "cell_type": "code",
   "execution_count": 4,
   "metadata": {},
   "outputs": [
    {
     "name": "stderr",
     "output_type": "stream",
     "text": [
      "\u001b[38;5;159m[Genesis] [22:53:13] [INFO] Adding \u001b[38;5;121m<gs.RigidEntity>\u001b[0m\u001b[38;5;159m. idx: \u001b[38;5;121m1\u001b[0m\u001b[38;5;159m, uid: \u001b[38;5;121m\u001b[3m<29dd971>\u001b[0m\u001b[38;5;159m, morph: \u001b[38;5;121m<gs.morphs.URDF(file='/home/binggwong/env_genesis/lib/python3.12/site-packages/genesis/assets/urdf/go2/urdf/go2.urdf')>\u001b[0m\u001b[38;5;159m, material: \u001b[38;5;121m<gs.materials.Rigid>\u001b[0m\u001b[38;5;159m.\u001b[0m\n"
     ]
    }
   ],
   "source": [
    "go2 = scene.add_entity(\n",
    "    gs.morphs.URDF(file='urdf/go2/urdf/go2.urdf'),\n",
    ")"
   ]
  },
  {
   "cell_type": "code",
   "execution_count": 5,
   "metadata": {},
   "outputs": [
    {
     "name": "stderr",
     "output_type": "stream",
     "text": [
      "\u001b[38;5;159m[Genesis] [14:54:39] [INFO] Adding \u001b[38;5;121m<gs.RigidEntity>\u001b[0m\u001b[38;5;159m. idx: \u001b[38;5;121m1\u001b[0m\u001b[38;5;159m, uid: \u001b[38;5;121m\u001b[3m<3f283b1>\u001b[0m\u001b[38;5;159m, morph: \u001b[38;5;121m<gs.morphs.URDF(file='/home/binggwong/git/Genesis/genesis/assets/urdf/go2w_description/urdf/go2w.urdf')>\u001b[0m\u001b[38;5;159m, material: \u001b[38;5;121m<gs.materials.Rigid>\u001b[0m\u001b[38;5;159m.\u001b[0m\n"
     ]
    }
   ],
   "source": [
    "go2w = scene.add_entity(\n",
    "    gs.morphs.URDF(\n",
    "        file='/home/binggwong/git/Genesis/genesis/assets/urdf/go2w_description/urdf/go2w.urdf',\n",
    "        pos   = (0.0, 0.0, 2.0),\n",
    "        ),\n",
    ")"
   ]
  },
  {
   "cell_type": "code",
   "execution_count": 6,
   "metadata": {},
   "outputs": [
    {
     "name": "stderr",
     "output_type": "stream",
     "text": [
      "\u001b[38;5;159m[Genesis] [14:54:44] [INFO] Building scene \u001b[38;5;121m\u001b[3m<a43ef13>\u001b[0m\u001b[38;5;159m...\u001b[0m\n",
      "\u001b[38;5;159m[Genesis] [14:54:51] [INFO] Compiling simulation kernels...\u001b[0m\n",
      "\u001b[38;5;159m[Genesis] [14:55:16] [INFO] Building visualizer...\u001b[0m\n",
      "\u001b[38;5;159m[Genesis] [14:55:17] [INFO] Viewer created. Resolution: \u001b[38;5;121m800×600\u001b[0m\u001b[38;5;159m, max_FPS: \u001b[38;5;121m60\u001b[0m\u001b[38;5;159m.\u001b[0m\n",
      "\u001b[38;5;159m[Genesis] [14:55:17] [INFO] Running at \u001b[38;5;121m368.34\u001b[0m\u001b[38;5;159m FPS.\u001b[0m\n",
      "\u001b[38;5;159m[Genesis] [14:55:17] [INFO] Running at \u001b[38;5;121m295.41\u001b[0m\u001b[38;5;159m FPS.\u001b[0m\n",
      "\u001b[38;5;159m[Genesis] [14:55:17] [INFO] Running at \u001b[38;5;121m247.94\u001b[0m\u001b[38;5;159m FPS.\u001b[0m\n",
      "\u001b[38;5;159m[Genesis] [14:55:17] [INFO] Running at \u001b[38;5;121m215.62\u001b[0m\u001b[38;5;159m FPS.\u001b[0m\n",
      "\u001b[38;5;159m[Genesis] [14:55:17] [INFO] Running at \u001b[38;5;121m192.19\u001b[0m\u001b[38;5;159m FPS.\u001b[0m\n",
      "\u001b[38;5;159m[Genesis] [14:55:17] [INFO] Running at \u001b[38;5;121m173.79\u001b[0m\u001b[38;5;159m FPS.\u001b[0m\n",
      "\u001b[38;5;159m[Genesis] [14:55:17] [INFO] Running at \u001b[38;5;121m159.23\u001b[0m\u001b[38;5;159m FPS.\u001b[0m\n",
      "\u001b[38;5;159m[Genesis] [14:55:18] [INFO] Running at \u001b[38;5;121m147.35\u001b[0m\u001b[38;5;159m FPS.\u001b[0m\n",
      "\u001b[38;5;159m[Genesis] [14:55:18] [INFO] Running at \u001b[38;5;121m137.79\u001b[0m\u001b[38;5;159m FPS.\u001b[0m\n",
      "\u001b[38;5;159m[Genesis] [14:55:18] [INFO] Running at \u001b[38;5;121m129.79\u001b[0m\u001b[38;5;159m FPS.\u001b[0m\n",
      "\u001b[38;5;159m[Genesis] [14:55:18] [INFO] Running at \u001b[38;5;121m122.86\u001b[0m\u001b[38;5;159m FPS.\u001b[0m\n",
      "\u001b[38;5;159m[Genesis] [14:55:18] [INFO] Running at \u001b[38;5;121m117.12\u001b[0m\u001b[38;5;159m FPS.\u001b[0m\n",
      "\u001b[38;5;159m[Genesis] [14:55:18] [INFO] Running at \u001b[38;5;121m112.37\u001b[0m\u001b[38;5;159m FPS.\u001b[0m\n",
      "\u001b[38;5;159m[Genesis] [14:55:18] [INFO] Running at \u001b[38;5;121m108.08\u001b[0m\u001b[38;5;159m FPS.\u001b[0m\n",
      "\u001b[38;5;159m[Genesis] [14:55:18] [INFO] Running at \u001b[38;5;121m104.23\u001b[0m\u001b[38;5;159m FPS.\u001b[0m\n",
      "\u001b[38;5;159m[Genesis] [14:55:18] [INFO] Running at \u001b[38;5;121m100.86\u001b[0m\u001b[38;5;159m FPS.\u001b[0m\n",
      "\u001b[38;5;159m[Genesis] [14:55:18] [INFO] Running at \u001b[38;5;121m97.89\u001b[0m\u001b[38;5;159m FPS.\u001b[0m\n",
      "\u001b[38;5;159m[Genesis] [14:55:18] [INFO] Running at \u001b[38;5;121m95.06\u001b[0m\u001b[38;5;159m FPS.\u001b[0m\n",
      "\u001b[38;5;159m[Genesis] [14:55:18] [INFO] Running at \u001b[38;5;121m92.69\u001b[0m\u001b[38;5;159m FPS.\u001b[0m\n",
      "\u001b[38;5;159m[Genesis] [14:55:18] [INFO] Running at \u001b[38;5;121m90.53\u001b[0m\u001b[38;5;159m FPS.\u001b[0m\n",
      "\u001b[38;5;159m[Genesis] [14:55:18] [INFO] Running at \u001b[38;5;121m88.59\u001b[0m\u001b[38;5;159m FPS.\u001b[0m\n",
      "\u001b[38;5;159m[Genesis] [14:55:18] [INFO] Running at \u001b[38;5;121m86.75\u001b[0m\u001b[38;5;159m FPS.\u001b[0m\n",
      "\u001b[38;5;159m[Genesis] [14:55:18] [INFO] Running at \u001b[38;5;121m85.12\u001b[0m\u001b[38;5;159m FPS.\u001b[0m\n",
      "\u001b[38;5;159m[Genesis] [14:55:18] [INFO] Running at \u001b[38;5;121m83.68\u001b[0m\u001b[38;5;159m FPS.\u001b[0m\n",
      "\u001b[38;5;159m[Genesis] [14:55:18] [INFO] Running at \u001b[38;5;121m82.30\u001b[0m\u001b[38;5;159m FPS.\u001b[0m\n",
      "\u001b[38;5;159m[Genesis] [14:55:18] [INFO] Running at \u001b[38;5;121m80.94\u001b[0m\u001b[38;5;159m FPS.\u001b[0m\n",
      "\u001b[38;5;159m[Genesis] [14:55:18] [INFO] Running at \u001b[38;5;121m79.71\u001b[0m\u001b[38;5;159m FPS.\u001b[0m\n",
      "\u001b[38;5;159m[Genesis] [14:55:18] [INFO] Running at \u001b[38;5;121m78.57\u001b[0m\u001b[38;5;159m FPS.\u001b[0m\n",
      "\u001b[38;5;159m[Genesis] [14:55:18] [INFO] Running at \u001b[38;5;121m77.53\u001b[0m\u001b[38;5;159m FPS.\u001b[0m\n",
      "\u001b[38;5;159m[Genesis] [14:55:18] [INFO] Running at \u001b[38;5;121m76.88\u001b[0m\u001b[38;5;159m FPS.\u001b[0m\n",
      "\u001b[38;5;159m[Genesis] [14:55:18] [INFO] Running at \u001b[38;5;121m75.99\u001b[0m\u001b[38;5;159m FPS.\u001b[0m\n",
      "\u001b[38;5;159m[Genesis] [14:55:18] [INFO] Running at \u001b[38;5;121m75.18\u001b[0m\u001b[38;5;159m FPS.\u001b[0m\n",
      "\u001b[38;5;159m[Genesis] [14:55:18] [INFO] Running at \u001b[38;5;121m74.41\u001b[0m\u001b[38;5;159m FPS.\u001b[0m\n",
      "\u001b[38;5;159m[Genesis] [14:55:18] [INFO] Running at \u001b[38;5;121m73.72\u001b[0m\u001b[38;5;159m FPS.\u001b[0m\n",
      "\u001b[38;5;159m[Genesis] [14:55:18] [INFO] Running at \u001b[38;5;121m73.08\u001b[0m\u001b[38;5;159m FPS.\u001b[0m\n",
      "\u001b[38;5;159m[Genesis] [14:55:18] [INFO] Running at \u001b[38;5;121m72.53\u001b[0m\u001b[38;5;159m FPS.\u001b[0m\n",
      "\u001b[38;5;159m[Genesis] [14:55:18] [INFO] Running at \u001b[38;5;121m71.89\u001b[0m\u001b[38;5;159m FPS.\u001b[0m\n",
      "\u001b[38;5;159m[Genesis] [14:55:18] [INFO] Running at \u001b[38;5;121m71.32\u001b[0m\u001b[38;5;159m FPS.\u001b[0m\n",
      "\u001b[38;5;159m[Genesis] [14:55:18] [INFO] Running at \u001b[38;5;121m70.82\u001b[0m\u001b[38;5;159m FPS.\u001b[0m\n",
      "\u001b[38;5;159m[Genesis] [14:55:18] [INFO] Running at \u001b[38;5;121m70.43\u001b[0m\u001b[38;5;159m FPS.\u001b[0m\n",
      "\u001b[38;5;159m[Genesis] [14:55:18] [INFO] Running at \u001b[38;5;121m69.94\u001b[0m\u001b[38;5;159m FPS.\u001b[0m\n",
      "\u001b[38;5;159m[Genesis] [14:55:18] [INFO] Running at \u001b[38;5;121m69.52\u001b[0m\u001b[38;5;159m FPS.\u001b[0m\n",
      "\u001b[38;5;159m[Genesis] [14:55:18] [INFO] Running at \u001b[38;5;121m69.01\u001b[0m\u001b[38;5;159m FPS.\u001b[0m\n",
      "\u001b[38;5;159m[Genesis] [14:55:18] [INFO] Running at \u001b[38;5;121m68.79\u001b[0m\u001b[38;5;159m FPS.\u001b[0m\n",
      "\u001b[38;5;159m[Genesis] [14:55:18] [INFO] Running at \u001b[38;5;121m68.40\u001b[0m\u001b[38;5;159m FPS.\u001b[0m\n",
      "\u001b[38;5;159m[Genesis] [14:55:18] [INFO] Running at \u001b[38;5;121m68.04\u001b[0m\u001b[38;5;159m FPS.\u001b[0m\n",
      "\u001b[38;5;159m[Genesis] [14:55:18] [INFO] Running at \u001b[38;5;121m67.69\u001b[0m\u001b[38;5;159m FPS.\u001b[0m\n",
      "\u001b[38;5;159m[Genesis] [14:55:18] [INFO] Running at \u001b[38;5;121m67.41\u001b[0m\u001b[38;5;159m FPS.\u001b[0m\n",
      "\u001b[38;5;159m[Genesis] [14:55:18] [INFO] Running at \u001b[38;5;121m67.34\u001b[0m\u001b[38;5;159m FPS.\u001b[0m\n",
      "\u001b[38;5;159m[Genesis] [14:55:18] [INFO] Running at \u001b[38;5;121m67.02\u001b[0m\u001b[38;5;159m FPS.\u001b[0m\n",
      "\u001b[38;5;159m[Genesis] [14:55:18] [INFO] Running at \u001b[38;5;121m66.74\u001b[0m\u001b[38;5;159m FPS.\u001b[0m\n",
      "\u001b[38;5;159m[Genesis] [14:55:18] [INFO] Running at \u001b[38;5;121m66.46\u001b[0m\u001b[38;5;159m FPS.\u001b[0m\n",
      "\u001b[38;5;159m[Genesis] [14:55:18] [INFO] Running at \u001b[38;5;121m66.22\u001b[0m\u001b[38;5;159m FPS.\u001b[0m\n",
      "\u001b[38;5;159m[Genesis] [14:55:18] [INFO] Running at \u001b[38;5;121m65.97\u001b[0m\u001b[38;5;159m FPS.\u001b[0m\n",
      "\u001b[38;5;159m[Genesis] [14:55:18] [INFO] Running at \u001b[38;5;121m65.76\u001b[0m\u001b[38;5;159m FPS.\u001b[0m\n",
      "\u001b[38;5;159m[Genesis] [14:55:18] [INFO] Running at \u001b[38;5;121m65.57\u001b[0m\u001b[38;5;159m FPS.\u001b[0m\n",
      "\u001b[38;5;159m[Genesis] [14:55:18] [INFO] Running at \u001b[38;5;121m65.35\u001b[0m\u001b[38;5;159m FPS.\u001b[0m\n",
      "\u001b[38;5;159m[Genesis] [14:55:18] [INFO] Running at \u001b[38;5;121m65.17\u001b[0m\u001b[38;5;159m FPS.\u001b[0m\n",
      "\u001b[38;5;159m[Genesis] [14:55:18] [INFO] Running at \u001b[38;5;121m47.01\u001b[0m\u001b[38;5;159m FPS.\u001b[0m\n",
      "\u001b[38;5;159m[Genesis] [14:55:19] [INFO] Running at \u001b[38;5;121m47.71\u001b[0m\u001b[38;5;159m FPS.\u001b[0m\n",
      "\u001b[38;5;159m[Genesis] [14:55:19] [INFO] Running at \u001b[38;5;121m48.26\u001b[0m\u001b[38;5;159m FPS.\u001b[0m\n",
      "\u001b[38;5;159m[Genesis] [14:55:19] [INFO] Running at \u001b[38;5;121m48.82\u001b[0m\u001b[38;5;159m FPS.\u001b[0m\n",
      "\u001b[38;5;159m[Genesis] [14:55:19] [INFO] Running at \u001b[38;5;121m49.42\u001b[0m\u001b[38;5;159m FPS.\u001b[0m\n",
      "\u001b[38;5;159m[Genesis] [14:55:19] [INFO] Running at \u001b[38;5;121m49.95\u001b[0m\u001b[38;5;159m FPS.\u001b[0m\n",
      "\u001b[38;5;159m[Genesis] [14:55:19] [INFO] Running at \u001b[38;5;121m50.45\u001b[0m\u001b[38;5;159m FPS.\u001b[0m\n",
      "\u001b[38;5;159m[Genesis] [14:55:19] [INFO] Running at \u001b[38;5;121m50.94\u001b[0m\u001b[38;5;159m FPS.\u001b[0m\n",
      "\u001b[38;5;159m[Genesis] [14:55:19] [INFO] Running at \u001b[38;5;121m51.42\u001b[0m\u001b[38;5;159m FPS.\u001b[0m\n",
      "\u001b[38;5;159m[Genesis] [14:55:19] [INFO] Running at \u001b[38;5;121m51.87\u001b[0m\u001b[38;5;159m FPS.\u001b[0m\n",
      "\u001b[38;5;159m[Genesis] [14:55:19] [INFO] Running at \u001b[38;5;121m52.30\u001b[0m\u001b[38;5;159m FPS.\u001b[0m\n",
      "\u001b[38;5;159m[Genesis] [14:55:19] [INFO] Running at \u001b[38;5;121m52.75\u001b[0m\u001b[38;5;159m FPS.\u001b[0m\n",
      "\u001b[38;5;159m[Genesis] [14:55:19] [INFO] Running at \u001b[38;5;121m53.13\u001b[0m\u001b[38;5;159m FPS.\u001b[0m\n",
      "\u001b[38;5;159m[Genesis] [14:55:19] [INFO] Running at \u001b[38;5;121m53.51\u001b[0m\u001b[38;5;159m FPS.\u001b[0m\n",
      "\u001b[38;5;159m[Genesis] [14:55:19] [INFO] Running at \u001b[38;5;121m53.86\u001b[0m\u001b[38;5;159m FPS.\u001b[0m\n",
      "\u001b[38;5;159m[Genesis] [14:55:19] [INFO] Running at \u001b[38;5;121m54.22\u001b[0m\u001b[38;5;159m FPS.\u001b[0m\n",
      "\u001b[38;5;159m[Genesis] [14:55:19] [INFO] Running at \u001b[38;5;121m54.53\u001b[0m\u001b[38;5;159m FPS.\u001b[0m\n",
      "\u001b[38;5;159m[Genesis] [14:55:19] [INFO] Running at \u001b[38;5;121m54.86\u001b[0m\u001b[38;5;159m FPS.\u001b[0m\n",
      "\u001b[38;5;159m[Genesis] [14:55:19] [INFO] Running at \u001b[38;5;121m55.18\u001b[0m\u001b[38;5;159m FPS.\u001b[0m\n",
      "\u001b[38;5;159m[Genesis] [14:55:19] [INFO] Running at \u001b[38;5;121m55.42\u001b[0m\u001b[38;5;159m FPS.\u001b[0m\n",
      "\u001b[38;5;159m[Genesis] [14:55:19] [INFO] Running at \u001b[38;5;121m55.82\u001b[0m\u001b[38;5;159m FPS.\u001b[0m\n",
      "\u001b[38;5;159m[Genesis] [14:55:19] [INFO] Running at \u001b[38;5;121m56.10\u001b[0m\u001b[38;5;159m FPS.\u001b[0m\n",
      "\u001b[38;5;159m[Genesis] [14:55:19] [INFO] Running at \u001b[38;5;121m56.40\u001b[0m\u001b[38;5;159m FPS.\u001b[0m\n",
      "\u001b[38;5;159m[Genesis] [14:55:19] [INFO] Running at \u001b[38;5;121m41.60\u001b[0m\u001b[38;5;159m FPS.\u001b[0m\n",
      "\u001b[38;5;159m[Genesis] [14:55:19] [INFO] Running at \u001b[38;5;121m42.45\u001b[0m\u001b[38;5;159m FPS.\u001b[0m\n",
      "\u001b[38;5;159m[Genesis] [14:55:19] [INFO] Running at \u001b[38;5;121m43.12\u001b[0m\u001b[38;5;159m FPS.\u001b[0m\n",
      "\u001b[38;5;159m[Genesis] [14:55:19] [INFO] Running at \u001b[38;5;121m43.79\u001b[0m\u001b[38;5;159m FPS.\u001b[0m\n",
      "\u001b[38;5;159m[Genesis] [14:55:19] [INFO] Running at \u001b[38;5;121m44.44\u001b[0m\u001b[38;5;159m FPS.\u001b[0m\n",
      "\u001b[38;5;159m[Genesis] [14:55:19] [INFO] Running at \u001b[38;5;121m45.15\u001b[0m\u001b[38;5;159m FPS.\u001b[0m\n",
      "\u001b[38;5;159m[Genesis] [14:55:19] [INFO] Running at \u001b[38;5;121m45.78\u001b[0m\u001b[38;5;159m FPS.\u001b[0m\n",
      "\u001b[38;5;159m[Genesis] [14:55:19] [INFO] Running at \u001b[38;5;121m46.37\u001b[0m\u001b[38;5;159m FPS.\u001b[0m\n",
      "\u001b[38;5;159m[Genesis] [14:55:19] [INFO] Running at \u001b[38;5;121m46.97\u001b[0m\u001b[38;5;159m FPS.\u001b[0m\n",
      "\u001b[38;5;159m[Genesis] [14:55:19] [INFO] Running at \u001b[38;5;121m47.50\u001b[0m\u001b[38;5;159m FPS.\u001b[0m\n",
      "\u001b[38;5;159m[Genesis] [14:55:19] [INFO] Running at \u001b[38;5;121m48.07\u001b[0m\u001b[38;5;159m FPS.\u001b[0m\n",
      "\u001b[38;5;159m[Genesis] [14:55:19] [INFO] Running at \u001b[38;5;121m48.63\u001b[0m\u001b[38;5;159m FPS.\u001b[0m\n",
      "\u001b[38;5;159m[Genesis] [14:55:19] [INFO] Running at \u001b[38;5;121m49.17\u001b[0m\u001b[38;5;159m FPS.\u001b[0m\n",
      "\u001b[38;5;159m[Genesis] [14:55:19] [INFO] Running at \u001b[38;5;121m49.70\u001b[0m\u001b[38;5;159m FPS.\u001b[0m\n",
      "\u001b[38;5;159m[Genesis] [14:55:19] [INFO] Running at \u001b[38;5;121m50.23\u001b[0m\u001b[38;5;159m FPS.\u001b[0m\n",
      "\u001b[38;5;159m[Genesis] [14:55:19] [INFO] Running at \u001b[38;5;121m50.70\u001b[0m\u001b[38;5;159m FPS.\u001b[0m\n",
      "\u001b[38;5;159m[Genesis] [14:55:19] [INFO] Running at \u001b[38;5;121m51.26\u001b[0m\u001b[38;5;159m FPS.\u001b[0m\n",
      "\u001b[38;5;159m[Genesis] [14:55:19] [INFO] Running at \u001b[38;5;121m51.71\u001b[0m\u001b[38;5;159m FPS.\u001b[0m\n",
      "\u001b[38;5;159m[Genesis] [14:55:19] [INFO] Running at \u001b[38;5;121m52.14\u001b[0m\u001b[38;5;159m FPS.\u001b[0m\n"
     ]
    },
    {
     "ename": "",
     "evalue": "",
     "output_type": "error",
     "traceback": [
      "\u001b[1;31mThe Kernel crashed while executing code in the current cell or a previous cell. \n",
      "\u001b[1;31mPlease review the code in the cell(s) to identify a possible cause of the failure. \n",
      "\u001b[1;31mClick <a href='https://aka.ms/vscodeJupyterKernelCrash'>here</a> for more info. \n",
      "\u001b[1;31mView Jupyter <a href='command:jupyter.viewOutput'>log</a> for further details."
     ]
    }
   ],
   "source": [
    "scene.build()\n",
    "\n",
    "for i in range(100):\n",
    "    scene.step()"
   ]
  },
  {
   "cell_type": "code",
   "execution_count": null,
   "metadata": {},
   "outputs": [
    {
     "name": "stderr",
     "output_type": "stream",
     "text": [
      "\u001b[38;5;159m[Genesis] [23:01:40] [INFO] Building scene \u001b[38;5;121m\u001b[3m<3ece694>\u001b[0m\u001b[38;5;159m...\u001b[0m\n",
      "\u001b[38;5;159m[Genesis] [23:01:43] [INFO] Compiling simulation kernels...\u001b[0m\n",
      "\u001b[38;5;159m[Genesis] [23:01:47] [INFO] Building visualizer...\u001b[0m\n",
      "\u001b[38;5;159m[Genesis] [23:01:49] [INFO] Viewer created. Resolution: \u001b[38;5;121m800×600\u001b[0m\u001b[38;5;159m, max_FPS: \u001b[38;5;121m60\u001b[0m\u001b[38;5;159m.\u001b[0m\n"
     ]
    },
    {
     "name": "stdout",
     "output_type": "stream",
     "text": [
      "Python 3.12.3 (main, Nov  6 2024, 18:32:19) [GCC 13.2.0]\n",
      "Type 'copyright', 'credits' or 'license' for more information\n",
      "IPython 8.31.0 -- An enhanced Interactive Python. Type '?' for help.\n",
      "\n"
     ]
    }
   ],
   "source": [
    "cam_0 = scene.add_camera()\n",
    "scene.build()\n",
    "\n",
    "# enter IPython's interactive mode\n",
    "import IPython; IPython.embed()"
   ]
  },
  {
   "cell_type": "code",
   "execution_count": null,
   "metadata": {},
   "outputs": [],
   "source": [
    "go2"
   ]
  },
  {
   "cell_type": "code",
   "execution_count": 1,
   "metadata": {},
   "outputs": [
    {
     "name": "stdout",
     "output_type": "stream",
     "text": [
      "Cleaned up all genesis and taichi cache files.\n"
     ]
    }
   ],
   "source": [
    "!gs clean"
   ]
  },
  {
   "cell_type": "code",
   "execution_count": null,
   "metadata": {},
   "outputs": [],
   "source": []
  }
 ],
 "metadata": {
  "kernelspec": {
   "display_name": "env_genesis",
   "language": "python",
   "name": "python3"
  },
  "language_info": {
   "codemirror_mode": {
    "name": "ipython",
    "version": 3
   },
   "file_extension": ".py",
   "mimetype": "text/x-python",
   "name": "python",
   "nbconvert_exporter": "python",
   "pygments_lexer": "ipython3",
   "version": "3.12.3"
  }
 },
 "nbformat": 4,
 "nbformat_minor": 2
}
